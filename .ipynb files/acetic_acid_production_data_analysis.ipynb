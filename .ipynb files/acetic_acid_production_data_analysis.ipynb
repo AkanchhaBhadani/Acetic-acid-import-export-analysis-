{
 "cells": [
  {
   "cell_type": "code",
   "execution_count": 1,
   "metadata": {},
   "outputs": [],
   "source": [
    "import pandas as pd\n",
    "import matplotlib.pyplot as plt\n",
    "import numpy as np"
   ]
  },
  {
   "cell_type": "code",
   "execution_count": 2,
   "metadata": {},
   "outputs": [],
   "source": [
    "capacity_data = pd.read_csv('acetic acid capacity data_csv.csv')"
   ]
  },
  {
   "cell_type": "code",
   "execution_count": 3,
   "metadata": {},
   "outputs": [
    {
     "data": {
      "text/html": [
       "<div>\n",
       "<style scoped>\n",
       "    .dataframe tbody tr th:only-of-type {\n",
       "        vertical-align: middle;\n",
       "    }\n",
       "\n",
       "    .dataframe tbody tr th {\n",
       "        vertical-align: top;\n",
       "    }\n",
       "\n",
       "    .dataframe thead th {\n",
       "        text-align: right;\n",
       "    }\n",
       "</style>\n",
       "<table border=\"1\" class=\"dataframe\">\n",
       "  <thead>\n",
       "    <tr style=\"text-align: right;\">\n",
       "      <th></th>\n",
       "      <th>Year</th>\n",
       "      <th>Capacity(in MT)</th>\n",
       "    </tr>\n",
       "  </thead>\n",
       "  <tbody>\n",
       "    <tr>\n",
       "      <th>0</th>\n",
       "      <td>2011-12</td>\n",
       "      <td>387380</td>\n",
       "    </tr>\n",
       "    <tr>\n",
       "      <th>1</th>\n",
       "      <td>2012-13</td>\n",
       "      <td>272580</td>\n",
       "    </tr>\n",
       "    <tr>\n",
       "      <th>2</th>\n",
       "      <td>2013-14</td>\n",
       "      <td>272580</td>\n",
       "    </tr>\n",
       "    <tr>\n",
       "      <th>3</th>\n",
       "      <td>2014-15</td>\n",
       "      <td>177430</td>\n",
       "    </tr>\n",
       "    <tr>\n",
       "      <th>4</th>\n",
       "      <td>2015-16</td>\n",
       "      <td>177430</td>\n",
       "    </tr>\n",
       "    <tr>\n",
       "      <th>5</th>\n",
       "      <td>2016-17</td>\n",
       "      <td>177430</td>\n",
       "    </tr>\n",
       "    <tr>\n",
       "      <th>6</th>\n",
       "      <td>2017-18</td>\n",
       "      <td>159620</td>\n",
       "    </tr>\n",
       "    <tr>\n",
       "      <th>7</th>\n",
       "      <td>2018-19</td>\n",
       "      <td>141620</td>\n",
       "    </tr>\n",
       "    <tr>\n",
       "      <th>8</th>\n",
       "      <td>2019-20</td>\n",
       "      <td>142050</td>\n",
       "    </tr>\n",
       "  </tbody>\n",
       "</table>\n",
       "</div>"
      ],
      "text/plain": [
       "      Year  Capacity(in MT)\n",
       "0  2011-12           387380\n",
       "1  2012-13           272580\n",
       "2  2013-14           272580\n",
       "3  2014-15           177430\n",
       "4  2015-16           177430\n",
       "5  2016-17           177430\n",
       "6  2017-18           159620\n",
       "7  2018-19           141620\n",
       "8  2019-20           142050"
      ]
     },
     "execution_count": 3,
     "metadata": {},
     "output_type": "execute_result"
    }
   ],
   "source": [
    "capacity_data"
   ]
  },
  {
   "cell_type": "code",
   "execution_count": 4,
   "metadata": {},
   "outputs": [
    {
     "data": {
      "text/plain": [
       "<matplotlib.axes._subplots.AxesSubplot at 0x260b60ff4f0>"
      ]
     },
     "execution_count": 4,
     "metadata": {},
     "output_type": "execute_result"
    },
    {
     "data": {
      "image/png": "[encoded data removed]",
      "text/plain": [
       "<Figure size 1080x576 with 1 Axes>"
      ]
     },
     "metadata": {
      "needs_background": "light"
     },
     "output_type": "display_data"
    }
   ],
   "source": [
    "capacity_data.plot(figsize=(15,8), x = 'Year', y= 'Capacity(in MT)', marker = 'o', color = 'green', label = 'Installed Capacity(in MT)', title = 'Plot1: Installed Capacity')"
   ]
  },
  {
   "cell_type": "code",
   "execution_count": 5,
   "metadata": {},
   "outputs": [],
   "source": [
    "data = pd.read_csv('acetic acid production data_csv.csv')"
   ]
  },
  {
   "cell_type": "code",
   "execution_count": 6,
   "metadata": {},
   "outputs": [
    {
     "data": {
      "text/html": [
       "<div>\n",
       "<style scoped>\n",
       "    .dataframe tbody tr th:only-of-type {\n",
       "        vertical-align: middle;\n",
       "    }\n",
       "\n",
       "    .dataframe tbody tr th {\n",
       "        vertical-align: top;\n",
       "    }\n",
       "\n",
       "    .dataframe thead th {\n",
       "        text-align: right;\n",
       "    }\n",
       "</style>\n",
       "<table border=\"1\" class=\"dataframe\">\n",
       "  <thead>\n",
       "    <tr style=\"text-align: right;\">\n",
       "      <th></th>\n",
       "      <th>Year</th>\n",
       "      <th>Production(in MT)</th>\n",
       "    </tr>\n",
       "  </thead>\n",
       "  <tbody>\n",
       "    <tr>\n",
       "      <th>0</th>\n",
       "      <td>2001-02</td>\n",
       "      <td>232005</td>\n",
       "    </tr>\n",
       "    <tr>\n",
       "      <th>1</th>\n",
       "      <td>2002-03</td>\n",
       "      <td>251683</td>\n",
       "    </tr>\n",
       "    <tr>\n",
       "      <th>2</th>\n",
       "      <td>2003-04</td>\n",
       "      <td>308084</td>\n",
       "    </tr>\n",
       "    <tr>\n",
       "      <th>3</th>\n",
       "      <td>2004-05</td>\n",
       "      <td>287901</td>\n",
       "    </tr>\n",
       "    <tr>\n",
       "      <th>4</th>\n",
       "      <td>2005-06</td>\n",
       "      <td>321840</td>\n",
       "    </tr>\n",
       "  </tbody>\n",
       "</table>\n",
       "</div>"
      ],
      "text/plain": [
       "      Year  Production(in MT)\n",
       "0  2001-02             232005\n",
       "1  2002-03             251683\n",
       "2  2003-04             308084\n",
       "3  2004-05             287901\n",
       "4  2005-06             321840"
      ]
     },
     "execution_count": 6,
     "metadata": {},
     "output_type": "execute_result"
    }
   ],
   "source": [
    "data.head()"
   ]
  },
  {
   "cell_type": "code",
   "execution_count": 7,
   "metadata": {
    "scrolled": false
   },
   "outputs": [
    {
     "data": {
      "text/html": [
       "<div>\n",
       "<style scoped>\n",
       "    .dataframe tbody tr th:only-of-type {\n",
       "        vertical-align: middle;\n",
       "    }\n",
       "\n",
       "    .dataframe tbody tr th {\n",
       "        vertical-align: top;\n",
       "    }\n",
       "\n",
       "    .dataframe thead th {\n",
       "        text-align: right;\n",
       "    }\n",
       "</style>\n",
       "<table border=\"1\" class=\"dataframe\">\n",
       "  <thead>\n",
       "    <tr style=\"text-align: right;\">\n",
       "      <th></th>\n",
       "      <th>Year</th>\n",
       "      <th>Production(in MT)</th>\n",
       "    </tr>\n",
       "  </thead>\n",
       "  <tbody>\n",
       "    <tr>\n",
       "      <th>0</th>\n",
       "      <td>2001-02</td>\n",
       "      <td>232005</td>\n",
       "    </tr>\n",
       "    <tr>\n",
       "      <th>1</th>\n",
       "      <td>2002-03</td>\n",
       "      <td>251683</td>\n",
       "    </tr>\n",
       "    <tr>\n",
       "      <th>2</th>\n",
       "      <td>2003-04</td>\n",
       "      <td>308084</td>\n",
       "    </tr>\n",
       "    <tr>\n",
       "      <th>3</th>\n",
       "      <td>2004-05</td>\n",
       "      <td>287901</td>\n",
       "    </tr>\n",
       "    <tr>\n",
       "      <th>4</th>\n",
       "      <td>2005-06</td>\n",
       "      <td>321840</td>\n",
       "    </tr>\n",
       "    <tr>\n",
       "      <th>5</th>\n",
       "      <td>2006-07</td>\n",
       "      <td>297480</td>\n",
       "    </tr>\n",
       "    <tr>\n",
       "      <th>6</th>\n",
       "      <td>2007-08</td>\n",
       "      <td>341810</td>\n",
       "    </tr>\n",
       "    <tr>\n",
       "      <th>7</th>\n",
       "      <td>2008-09</td>\n",
       "      <td>214040</td>\n",
       "    </tr>\n",
       "    <tr>\n",
       "      <th>8</th>\n",
       "      <td>2009-10</td>\n",
       "      <td>146440</td>\n",
       "    </tr>\n",
       "    <tr>\n",
       "      <th>9</th>\n",
       "      <td>2010-11</td>\n",
       "      <td>156480</td>\n",
       "    </tr>\n",
       "    <tr>\n",
       "      <th>10</th>\n",
       "      <td>2011-12</td>\n",
       "      <td>160730</td>\n",
       "    </tr>\n",
       "    <tr>\n",
       "      <th>11</th>\n",
       "      <td>2012-13</td>\n",
       "      <td>160560</td>\n",
       "    </tr>\n",
       "    <tr>\n",
       "      <th>12</th>\n",
       "      <td>2013-14</td>\n",
       "      <td>157170</td>\n",
       "    </tr>\n",
       "    <tr>\n",
       "      <th>13</th>\n",
       "      <td>2014-15</td>\n",
       "      <td>159610</td>\n",
       "    </tr>\n",
       "    <tr>\n",
       "      <th>14</th>\n",
       "      <td>2015-16</td>\n",
       "      <td>157910</td>\n",
       "    </tr>\n",
       "    <tr>\n",
       "      <th>15</th>\n",
       "      <td>2016-17</td>\n",
       "      <td>158510</td>\n",
       "    </tr>\n",
       "    <tr>\n",
       "      <th>16</th>\n",
       "      <td>2017-18</td>\n",
       "      <td>157070</td>\n",
       "    </tr>\n",
       "    <tr>\n",
       "      <th>17</th>\n",
       "      <td>2018-19</td>\n",
       "      <td>153800</td>\n",
       "    </tr>\n",
       "    <tr>\n",
       "      <th>18</th>\n",
       "      <td>2019-20</td>\n",
       "      <td>167860</td>\n",
       "    </tr>\n",
       "  </tbody>\n",
       "</table>\n",
       "</div>"
      ],
      "text/plain": [
       "       Year  Production(in MT)\n",
       "0   2001-02             232005\n",
       "1   2002-03             251683\n",
       "2   2003-04             308084\n",
       "3   2004-05             287901\n",
       "4   2005-06             321840\n",
       "5   2006-07             297480\n",
       "6   2007-08             341810\n",
       "7   2008-09             214040\n",
       "8   2009-10             146440\n",
       "9   2010-11             156480\n",
       "10  2011-12             160730\n",
       "11  2012-13             160560\n",
       "12  2013-14             157170\n",
       "13  2014-15             159610\n",
       "14  2015-16             157910\n",
       "15  2016-17             158510\n",
       "16  2017-18             157070\n",
       "17  2018-19             153800\n",
       "18  2019-20             167860"
      ]
     },
     "execution_count": 7,
     "metadata": {},
     "output_type": "execute_result"
    }
   ],
   "source": [
    "temp_data = data.copy()\n",
    "data"
   ]
  },
  {
   "cell_type": "code",
   "execution_count": 8,
   "metadata": {
    "scrolled": false
   },
   "outputs": [
    {
     "data": {
      "text/plain": [
       "<matplotlib.axes._subplots.AxesSubplot at 0x260b6af4190>"
      ]
     },
     "execution_count": 8,
     "metadata": {},
     "output_type": "execute_result"
    },
    {
     "data": {
      "image/png": "[encoded data removed]",
      "text/plain": [
       "<Figure size 1080x720 with 1 Axes>"
      ]
     },
     "metadata": {
      "needs_background": "light"
     },
     "output_type": "display_data"
    }
   ],
   "source": [
    "data.plot.bar(x = 'Year', y = 'Production(in MT)', figsize=(15,10), title = 'Plot2: Production in MT', color = 'orange', edgecolor = 'red')"
   ]
  },
  {
   "cell_type": "code",
   "execution_count": 9,
   "metadata": {
    "scrolled": false
   },
   "outputs": [
    {
     "data": {
      "image/png": "[encoded data removed]",
      "text/plain": [
       "<Figure size 1080x720 with 1 Axes>"
      ]
     },
     "metadata": {
      "needs_background": "light"
     },
     "output_type": "display_data"
    }
   ],
   "source": [
    "ax = data[0:8].plot( marker = 'o', color = 'black',figsize = (15,10), legend = None, title = 'Plot3: Visualisation of Production data');\n",
    "data[8:19].plot( marker = 'o', color = 'blue', ax=ax);\n",
    "ax.set_xticks(data.index);\n",
    "ax.set_xticklabels(data['Year'], rotation = 90);\n",
    "ax.legend(['Production data','data used in forecast']);\n",
    "# temp_data = data[8:19]\n",
    "# temp_data.head()\n",
    "# temp_data.plot(x = 'Year', y = 'Production(in MT)', marker = 'o', color = 'black', ax=ax)"
   ]
  },
  {
   "cell_type": "code",
   "execution_count": 10,
   "metadata": {},
   "outputs": [
    {
     "name": "stdout",
     "output_type": "stream",
     "text": [
      "['2001', '2002', '2003', '2004', '2005', '2006', '2007', '2008', '2009', '2010', '2011', '2012', '2013', '2014', '2015', '2016', '2017', '2018', '2019']\n"
     ]
    }
   ],
   "source": [
    "year = []\n",
    "for x in data['Year']:\n",
    "    year.append(x[0:4])\n",
    "print(year)"
   ]
  },
  {
   "cell_type": "code",
   "execution_count": 11,
   "metadata": {},
   "outputs": [
    {
     "data": {
      "text/html": [
       "<div>\n",
       "<style scoped>\n",
       "    .dataframe tbody tr th:only-of-type {\n",
       "        vertical-align: middle;\n",
       "    }\n",
       "\n",
       "    .dataframe tbody tr th {\n",
       "        vertical-align: top;\n",
       "    }\n",
       "\n",
       "    .dataframe thead th {\n",
       "        text-align: right;\n",
       "    }\n",
       "</style>\n",
       "<table border=\"1\" class=\"dataframe\">\n",
       "  <thead>\n",
       "    <tr style=\"text-align: right;\">\n",
       "      <th></th>\n",
       "      <th>Year</th>\n",
       "      <th>Production(in MT)</th>\n",
       "    </tr>\n",
       "    <tr>\n",
       "      <th>Year(num)</th>\n",
       "      <th></th>\n",
       "      <th></th>\n",
       "    </tr>\n",
       "  </thead>\n",
       "  <tbody>\n",
       "    <tr>\n",
       "      <th>2001-01-01</th>\n",
       "      <td>2001-02</td>\n",
       "      <td>232005</td>\n",
       "    </tr>\n",
       "    <tr>\n",
       "      <th>2002-01-01</th>\n",
       "      <td>2002-03</td>\n",
       "      <td>251683</td>\n",
       "    </tr>\n",
       "    <tr>\n",
       "      <th>2003-01-01</th>\n",
       "      <td>2003-04</td>\n",
       "      <td>308084</td>\n",
       "    </tr>\n",
       "    <tr>\n",
       "      <th>2004-01-01</th>\n",
       "      <td>2004-05</td>\n",
       "      <td>287901</td>\n",
       "    </tr>\n",
       "    <tr>\n",
       "      <th>2005-01-01</th>\n",
       "      <td>2005-06</td>\n",
       "      <td>321840</td>\n",
       "    </tr>\n",
       "    <tr>\n",
       "      <th>2006-01-01</th>\n",
       "      <td>2006-07</td>\n",
       "      <td>297480</td>\n",
       "    </tr>\n",
       "    <tr>\n",
       "      <th>2007-01-01</th>\n",
       "      <td>2007-08</td>\n",
       "      <td>341810</td>\n",
       "    </tr>\n",
       "    <tr>\n",
       "      <th>2008-01-01</th>\n",
       "      <td>2008-09</td>\n",
       "      <td>214040</td>\n",
       "    </tr>\n",
       "    <tr>\n",
       "      <th>2009-01-01</th>\n",
       "      <td>2009-10</td>\n",
       "      <td>146440</td>\n",
       "    </tr>\n",
       "    <tr>\n",
       "      <th>2010-01-01</th>\n",
       "      <td>2010-11</td>\n",
       "      <td>156480</td>\n",
       "    </tr>\n",
       "    <tr>\n",
       "      <th>2011-01-01</th>\n",
       "      <td>2011-12</td>\n",
       "      <td>160730</td>\n",
       "    </tr>\n",
       "    <tr>\n",
       "      <th>2012-01-01</th>\n",
       "      <td>2012-13</td>\n",
       "      <td>160560</td>\n",
       "    </tr>\n",
       "    <tr>\n",
       "      <th>2013-01-01</th>\n",
       "      <td>2013-14</td>\n",
       "      <td>157170</td>\n",
       "    </tr>\n",
       "    <tr>\n",
       "      <th>2014-01-01</th>\n",
       "      <td>2014-15</td>\n",
       "      <td>159610</td>\n",
       "    </tr>\n",
       "    <tr>\n",
       "      <th>2015-01-01</th>\n",
       "      <td>2015-16</td>\n",
       "      <td>157910</td>\n",
       "    </tr>\n",
       "    <tr>\n",
       "      <th>2016-01-01</th>\n",
       "      <td>2016-17</td>\n",
       "      <td>158510</td>\n",
       "    </tr>\n",
       "    <tr>\n",
       "      <th>2017-01-01</th>\n",
       "      <td>2017-18</td>\n",
       "      <td>157070</td>\n",
       "    </tr>\n",
       "    <tr>\n",
       "      <th>2018-01-01</th>\n",
       "      <td>2018-19</td>\n",
       "      <td>153800</td>\n",
       "    </tr>\n",
       "    <tr>\n",
       "      <th>2019-01-01</th>\n",
       "      <td>2019-20</td>\n",
       "      <td>167860</td>\n",
       "    </tr>\n",
       "  </tbody>\n",
       "</table>\n",
       "</div>"
      ],
      "text/plain": [
       "               Year  Production(in MT)\n",
       "Year(num)                             \n",
       "2001-01-01  2001-02             232005\n",
       "2002-01-01  2002-03             251683\n",
       "2003-01-01  2003-04             308084\n",
       "2004-01-01  2004-05             287901\n",
       "2005-01-01  2005-06             321840\n",
       "2006-01-01  2006-07             297480\n",
       "2007-01-01  2007-08             341810\n",
       "2008-01-01  2008-09             214040\n",
       "2009-01-01  2009-10             146440\n",
       "2010-01-01  2010-11             156480\n",
       "2011-01-01  2011-12             160730\n",
       "2012-01-01  2012-13             160560\n",
       "2013-01-01  2013-14             157170\n",
       "2014-01-01  2014-15             159610\n",
       "2015-01-01  2015-16             157910\n",
       "2016-01-01  2016-17             158510\n",
       "2017-01-01  2017-18             157070\n",
       "2018-01-01  2018-19             153800\n",
       "2019-01-01  2019-20             167860"
      ]
     },
     "execution_count": 11,
     "metadata": {},
     "output_type": "execute_result"
    }
   ],
   "source": [
    "data['Year(num)'] = year\n",
    "data['Year(num)'] = pd.to_datetime(data['Year(num)'])\n",
    "data.set_index('Year(num)', inplace = True)\n",
    "data"
   ]
  },
  {
   "cell_type": "code",
   "execution_count": 12,
   "metadata": {},
   "outputs": [
    {
     "data": {
      "text/html": [
       "<div>\n",
       "<style scoped>\n",
       "    .dataframe tbody tr th:only-of-type {\n",
       "        vertical-align: middle;\n",
       "    }\n",
       "\n",
       "    .dataframe tbody tr th {\n",
       "        vertical-align: top;\n",
       "    }\n",
       "\n",
       "    .dataframe thead th {\n",
       "        text-align: right;\n",
       "    }\n",
       "</style>\n",
       "<table border=\"1\" class=\"dataframe\">\n",
       "  <thead>\n",
       "    <tr style=\"text-align: right;\">\n",
       "      <th></th>\n",
       "      <th>Production(in MT)</th>\n",
       "    </tr>\n",
       "    <tr>\n",
       "      <th>Year(num)</th>\n",
       "      <th></th>\n",
       "    </tr>\n",
       "  </thead>\n",
       "  <tbody>\n",
       "    <tr>\n",
       "      <th>2001-01-01</th>\n",
       "      <td>232005</td>\n",
       "    </tr>\n",
       "    <tr>\n",
       "      <th>2002-01-01</th>\n",
       "      <td>251683</td>\n",
       "    </tr>\n",
       "    <tr>\n",
       "      <th>2003-01-01</th>\n",
       "      <td>308084</td>\n",
       "    </tr>\n",
       "    <tr>\n",
       "      <th>2004-01-01</th>\n",
       "      <td>287901</td>\n",
       "    </tr>\n",
       "    <tr>\n",
       "      <th>2005-01-01</th>\n",
       "      <td>321840</td>\n",
       "    </tr>\n",
       "  </tbody>\n",
       "</table>\n",
       "</div>"
      ],
      "text/plain": [
       "            Production(in MT)\n",
       "Year(num)                    \n",
       "2001-01-01             232005\n",
       "2002-01-01             251683\n",
       "2003-01-01             308084\n",
       "2004-01-01             287901\n",
       "2005-01-01             321840"
      ]
     },
     "execution_count": 12,
     "metadata": {},
     "output_type": "execute_result"
    }
   ],
   "source": [
    "data_to_fit = data.drop(['Year'], axis = 1)\n",
    "data_to_fit.head()"
   ]
  },
  {
   "cell_type": "code",
   "execution_count": 13,
   "metadata": {},
   "outputs": [
    {
     "data": {
      "image/png": "[encoded data removed]",
      "text/plain": [
       "<Figure size 1080x576 with 1 Axes>"
      ]
     },
     "metadata": {
      "needs_background": "light"
     },
     "output_type": "display_data"
    }
   ],
   "source": [
    "data_to_fit.index = pd.DatetimeIndex(data_to_fit.index.values,freq=data_to_fit.index.inferred_freq)\n",
    "#Using Holt's Winter model for forecasting future expected import quantities\n",
    "from statsmodels.tsa.holtwinters import ExponentialSmoothing\n",
    "model = ExponentialSmoothing(data_to_fit['Production(in MT)'][8:19], trend = 'mul',seasonal = 'add', seasonal_periods = 10, damped = False)\n",
    "np.warnings.filterwarnings('ignore')\n",
    "model_fit = model.fit(optimized = True)\n",
    "fcast = model_fit.forecast(8)\n",
    "ax = data_to_fit['Production(in MT)'][8:19].plot(marker='o', color='black', figsize=(15,8), legend=True, title = 'Plot4: Forecasting of Production between 2020-2027');\n",
    "ax.ticklabel_format(style='plain', axis = 'y');\n",
    "model_fit.fittedvalues.plot(marker='+', ax=ax, color='red', legend=True, label = 'fitted_model');\n",
    "fcast.plot(marker = 'o', ax=ax, color = 'blue', legend = True, label = 'forecasted_value');"
   ]
  },
  {
   "cell_type": "code",
   "execution_count": 14,
   "metadata": {},
   "outputs": [],
   "source": [
    "forecasted_values = pd.DataFrame()\n",
    "yr = []\n",
    "temp1 = 2020\n",
    "temp2 = 21\n",
    "for i in range (0,8):\n",
    "    temp_str = str(temp1+i)+'-'+str(temp2+i)\n",
    "    yr.append(temp_str)\n",
    "val=[]\n",
    "for x in fcast:\n",
    "    val.append(x)\n",
    "forecasted_values['Year'] = yr\n",
    "forecasted_values['Production(in MT)'] = val\n",
    "ind = []\n",
    "for i in range (19, 27):\n",
    "    ind.append(i)\n",
    "forecasted_values['index'] = ind\n",
    "forecasted_values.set_index('index', inplace = True)\n",
    "temp_data.set_index(temp_data.index, inplace = True)\n",
    "temp2 = pd.concat([temp_data, forecasted_values])"
   ]
  },
  {
   "cell_type": "code",
   "execution_count": 15,
   "metadata": {
    "scrolled": false
   },
   "outputs": [
    {
     "data": {
      "image/png": "[encoded data removed]",
      "text/plain": [
       "<Figure size 1080x720 with 1 Axes>"
      ]
     },
     "metadata": {
      "needs_background": "light"
     },
     "output_type": "display_data"
    }
   ],
   "source": [
    "fig = plt.figure(figsize=(15,10))\n",
    "plt.bar(temp2['Year'][0:19], temp2['Production(in MT)'][0:19],width = 0.6, color = 'orange', edgecolor='red', label = 'Previous years data')\n",
    "plt.bar(temp2['Year'][19:27], temp2['Production(in MT)'][19:27], width = 0.6, color = 'pink', edgecolor='purple', label = 'Forecasted data')\n",
    "plt.xticks(temp2['Year'], rotation = 90);\n",
    "plt.legend();\n",
    "plt.title('Plot5: Data Visualization of forecasted Values');"
   ]
  },
  {
   "cell_type": "code",
   "execution_count": 16,
   "metadata": {},
   "outputs": [
    {
     "name": "stdout",
     "output_type": "stream",
     "text": [
      "\u001b[1m   PRODUCTION DATA    \u001b[0m\n"
     ]
    },
    {
     "data": {
      "text/html": [
       "<div>\n",
       "<style scoped>\n",
       "    .dataframe tbody tr th:only-of-type {\n",
       "        vertical-align: middle;\n",
       "    }\n",
       "\n",
       "    .dataframe tbody tr th {\n",
       "        vertical-align: top;\n",
       "    }\n",
       "\n",
       "    .dataframe thead th {\n",
       "        text-align: right;\n",
       "    }\n",
       "</style>\n",
       "<table border=\"1\" class=\"dataframe\">\n",
       "  <thead>\n",
       "    <tr style=\"text-align: right;\">\n",
       "      <th></th>\n",
       "      <th>Year</th>\n",
       "      <th>Production(in MT)</th>\n",
       "    </tr>\n",
       "  </thead>\n",
       "  <tbody>\n",
       "    <tr>\n",
       "      <th>0</th>\n",
       "      <td>2001-02</td>\n",
       "      <td>232005</td>\n",
       "    </tr>\n",
       "    <tr>\n",
       "      <th>1</th>\n",
       "      <td>2002-03</td>\n",
       "      <td>251683</td>\n",
       "    </tr>\n",
       "    <tr>\n",
       "      <th>2</th>\n",
       "      <td>2003-04</td>\n",
       "      <td>308084</td>\n",
       "    </tr>\n",
       "    <tr>\n",
       "      <th>3</th>\n",
       "      <td>2004-05</td>\n",
       "      <td>287901</td>\n",
       "    </tr>\n",
       "    <tr>\n",
       "      <th>4</th>\n",
       "      <td>2005-06</td>\n",
       "      <td>321840</td>\n",
       "    </tr>\n",
       "    <tr>\n",
       "      <th>5</th>\n",
       "      <td>2006-07</td>\n",
       "      <td>297480</td>\n",
       "    </tr>\n",
       "    <tr>\n",
       "      <th>6</th>\n",
       "      <td>2007-08</td>\n",
       "      <td>341810</td>\n",
       "    </tr>\n",
       "    <tr>\n",
       "      <th>7</th>\n",
       "      <td>2008-09</td>\n",
       "      <td>214040</td>\n",
       "    </tr>\n",
       "    <tr>\n",
       "      <th>8</th>\n",
       "      <td>2009-10</td>\n",
       "      <td>146440</td>\n",
       "    </tr>\n",
       "    <tr>\n",
       "      <th>9</th>\n",
       "      <td>2010-11</td>\n",
       "      <td>156480</td>\n",
       "    </tr>\n",
       "    <tr>\n",
       "      <th>10</th>\n",
       "      <td>2011-12</td>\n",
       "      <td>160730</td>\n",
       "    </tr>\n",
       "    <tr>\n",
       "      <th>11</th>\n",
       "      <td>2012-13</td>\n",
       "      <td>160560</td>\n",
       "    </tr>\n",
       "    <tr>\n",
       "      <th>12</th>\n",
       "      <td>2013-14</td>\n",
       "      <td>157170</td>\n",
       "    </tr>\n",
       "    <tr>\n",
       "      <th>13</th>\n",
       "      <td>2014-15</td>\n",
       "      <td>159610</td>\n",
       "    </tr>\n",
       "    <tr>\n",
       "      <th>14</th>\n",
       "      <td>2015-16</td>\n",
       "      <td>157910</td>\n",
       "    </tr>\n",
       "    <tr>\n",
       "      <th>15</th>\n",
       "      <td>2016-17</td>\n",
       "      <td>158510</td>\n",
       "    </tr>\n",
       "    <tr>\n",
       "      <th>16</th>\n",
       "      <td>2017-18</td>\n",
       "      <td>157070</td>\n",
       "    </tr>\n",
       "    <tr>\n",
       "      <th>17</th>\n",
       "      <td>2018-19</td>\n",
       "      <td>153800</td>\n",
       "    </tr>\n",
       "  </tbody>\n",
       "</table>\n",
       "</div>"
      ],
      "text/plain": [
       "       Year  Production(in MT)\n",
       "0   2001-02             232005\n",
       "1   2002-03             251683\n",
       "2   2003-04             308084\n",
       "3   2004-05             287901\n",
       "4   2005-06             321840\n",
       "5   2006-07             297480\n",
       "6   2007-08             341810\n",
       "7   2008-09             214040\n",
       "8   2009-10             146440\n",
       "9   2010-11             156480\n",
       "10  2011-12             160730\n",
       "11  2012-13             160560\n",
       "12  2013-14             157170\n",
       "13  2014-15             159610\n",
       "14  2015-16             157910\n",
       "15  2016-17             158510\n",
       "16  2017-18             157070\n",
       "17  2018-19             153800"
      ]
     },
     "execution_count": 16,
     "metadata": {},
     "output_type": "execute_result"
    }
   ],
   "source": [
    "i=0\n",
    "arr =[]\n",
    "for x in temp2['Production(in MT)']:\n",
    "    arr.append(int(x))\n",
    "    i=i+1\n",
    "temp2['Production(in MT)'] = arr\n",
    "a = \"PRODUCTION DATA\"\n",
    "print(\"\\033[1m\",a.center(20), \"\\033[0m\")\n",
    "temp2[0:18]\n"
   ]
  },
  {
   "cell_type": "code",
   "execution_count": 17,
   "metadata": {},
   "outputs": [
    {
     "name": "stdout",
     "output_type": "stream",
     "text": [
      "\u001b[1m FORECASTED PRODUCTION DATA \u001b[0m\n"
     ]
    },
    {
     "data": {
      "text/html": [
       "<div>\n",
       "<style scoped>\n",
       "    .dataframe tbody tr th:only-of-type {\n",
       "        vertical-align: middle;\n",
       "    }\n",
       "\n",
       "    .dataframe tbody tr th {\n",
       "        vertical-align: top;\n",
       "    }\n",
       "\n",
       "    .dataframe thead th {\n",
       "        text-align: right;\n",
       "    }\n",
       "</style>\n",
       "<table border=\"1\" class=\"dataframe\">\n",
       "  <thead>\n",
       "    <tr style=\"text-align: right;\">\n",
       "      <th></th>\n",
       "      <th>Year</th>\n",
       "      <th>Production(in MT)</th>\n",
       "    </tr>\n",
       "  </thead>\n",
       "  <tbody>\n",
       "    <tr>\n",
       "      <th>19</th>\n",
       "      <td>2020-21</td>\n",
       "      <td>165476</td>\n",
       "    </tr>\n",
       "    <tr>\n",
       "      <th>20</th>\n",
       "      <td>2021-22</td>\n",
       "      <td>170578</td>\n",
       "    </tr>\n",
       "    <tr>\n",
       "      <th>21</th>\n",
       "      <td>2022-23</td>\n",
       "      <td>171117</td>\n",
       "    </tr>\n",
       "    <tr>\n",
       "      <th>22</th>\n",
       "      <td>2023-24</td>\n",
       "      <td>168487</td>\n",
       "    </tr>\n",
       "    <tr>\n",
       "      <th>23</th>\n",
       "      <td>2024-25</td>\n",
       "      <td>171630</td>\n",
       "    </tr>\n",
       "    <tr>\n",
       "      <th>24</th>\n",
       "      <td>2025-26</td>\n",
       "      <td>170610</td>\n",
       "    </tr>\n",
       "    <tr>\n",
       "      <th>25</th>\n",
       "      <td>2026-27</td>\n",
       "      <td>171736</td>\n",
       "    </tr>\n",
       "    <tr>\n",
       "      <th>26</th>\n",
       "      <td>2027-28</td>\n",
       "      <td>170876</td>\n",
       "    </tr>\n",
       "  </tbody>\n",
       "</table>\n",
       "</div>"
      ],
      "text/plain": [
       "       Year  Production(in MT)\n",
       "19  2020-21             165476\n",
       "20  2021-22             170578\n",
       "21  2022-23             171117\n",
       "22  2023-24             168487\n",
       "23  2024-25             171630\n",
       "24  2025-26             170610\n",
       "25  2026-27             171736\n",
       "26  2027-28             170876"
      ]
     },
     "execution_count": 17,
     "metadata": {},
     "output_type": "execute_result"
    }
   ],
   "source": [
    "a = \"FORECASTED PRODUCTION DATA\"\n",
    "print(\"\\033[1m\",a.center(20), \"\\033[0m\")\n",
    "temp2[19:27]"
   ]
  }
 ],
 "metadata": {
  "kernelspec": {
   "display_name": "Python 3",
   "language": "python",
   "name": "python3"
  },
  "language_info": {
   "codemirror_mode": {
    "name": "ipython",
    "version": 3
   },
   "file_extension": ".py",
   "mimetype": "text/x-python",
   "name": "python",
   "nbconvert_exporter": "python",
   "pygments_lexer": "ipython3",
   "version": "3.8.3"
  }
 },
 "nbformat": 4,
 "nbformat_minor": 4
}
