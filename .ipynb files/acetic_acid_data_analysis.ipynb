{
 "cells": [
  {
   "cell_type": "code",
   "execution_count": 1,
   "metadata": {},
   "outputs": [],
   "source": [
    "import pandas as pd\n",
    "import matplotlib.pyplot as plt\n",
    "import numpy as np"
   ]
  },
  {
   "cell_type": "code",
   "execution_count": 2,
   "metadata": {},
   "outputs": [],
   "source": [
    "data = pd.read_csv('acetic acid import data_csv.csv')"
   ]
  },
  {
   "cell_type": "code",
   "execution_count": 3,
   "metadata": {},
   "outputs": [
    {
     "data": {
      "text/html": [
       "<div>\n",
       "<style scoped>\n",
       "    .dataframe tbody tr th:only-of-type {\n",
       "        vertical-align: middle;\n",
       "    }\n",
       "\n",
       "    .dataframe tbody tr th {\n",
       "        vertical-align: top;\n",
       "    }\n",
       "\n",
       "    .dataframe thead th {\n",
       "        text-align: right;\n",
       "    }\n",
       "</style>\n",
       "<table border=\"1\" class=\"dataframe\">\n",
       "  <thead>\n",
       "    <tr style=\"text-align: right;\">\n",
       "      <th></th>\n",
       "      <th>Year</th>\n",
       "      <th>Parameter</th>\n",
       "      <th>Value</th>\n",
       "    </tr>\n",
       "  </thead>\n",
       "  <tbody>\n",
       "    <tr>\n",
       "      <th>0</th>\n",
       "      <td>2002-03</td>\n",
       "      <td>QTY</td>\n",
       "      <td>43203</td>\n",
       "    </tr>\n",
       "    <tr>\n",
       "      <th>1</th>\n",
       "      <td>NaN</td>\n",
       "      <td>VAL</td>\n",
       "      <td>7909</td>\n",
       "    </tr>\n",
       "    <tr>\n",
       "      <th>2</th>\n",
       "      <td>2003-04</td>\n",
       "      <td>QTY</td>\n",
       "      <td>27030</td>\n",
       "    </tr>\n",
       "    <tr>\n",
       "      <th>3</th>\n",
       "      <td>NaN</td>\n",
       "      <td>VAL</td>\n",
       "      <td>5300</td>\n",
       "    </tr>\n",
       "    <tr>\n",
       "      <th>4</th>\n",
       "      <td>2004-05</td>\n",
       "      <td>QTY</td>\n",
       "      <td>70396</td>\n",
       "    </tr>\n",
       "  </tbody>\n",
       "</table>\n",
       "</div>"
      ],
      "text/plain": [
       "      Year Parameter  Value\n",
       "0  2002-03       QTY  43203\n",
       "1      NaN       VAL   7909\n",
       "2  2003-04       QTY  27030\n",
       "3      NaN       VAL   5300\n",
       "4  2004-05       QTY  70396"
      ]
     },
     "execution_count": 3,
     "metadata": {},
     "output_type": "execute_result"
    }
   ],
   "source": [
    "data.head()"
   ]
  },
  {
   "cell_type": "code",
   "execution_count": 4,
   "metadata": {},
   "outputs": [
    {
     "data": {
      "text/html": [
       "<div>\n",
       "<style scoped>\n",
       "    .dataframe tbody tr th:only-of-type {\n",
       "        vertical-align: middle;\n",
       "    }\n",
       "\n",
       "    .dataframe tbody tr th {\n",
       "        vertical-align: top;\n",
       "    }\n",
       "\n",
       "    .dataframe thead th {\n",
       "        text-align: right;\n",
       "    }\n",
       "</style>\n",
       "<table border=\"1\" class=\"dataframe\">\n",
       "  <thead>\n",
       "    <tr style=\"text-align: right;\">\n",
       "      <th></th>\n",
       "      <th>Year</th>\n",
       "      <th>Parameter</th>\n",
       "      <th>Value</th>\n",
       "    </tr>\n",
       "  </thead>\n",
       "  <tbody>\n",
       "    <tr>\n",
       "      <th>0</th>\n",
       "      <td>2002-03</td>\n",
       "      <td>QTY</td>\n",
       "      <td>43203</td>\n",
       "    </tr>\n",
       "    <tr>\n",
       "      <th>1</th>\n",
       "      <td>NaN</td>\n",
       "      <td>VAL</td>\n",
       "      <td>7909</td>\n",
       "    </tr>\n",
       "    <tr>\n",
       "      <th>2</th>\n",
       "      <td>2003-04</td>\n",
       "      <td>QTY</td>\n",
       "      <td>27030</td>\n",
       "    </tr>\n",
       "    <tr>\n",
       "      <th>3</th>\n",
       "      <td>NaN</td>\n",
       "      <td>VAL</td>\n",
       "      <td>5300</td>\n",
       "    </tr>\n",
       "    <tr>\n",
       "      <th>4</th>\n",
       "      <td>2004-05</td>\n",
       "      <td>QTY</td>\n",
       "      <td>70396</td>\n",
       "    </tr>\n",
       "    <tr>\n",
       "      <th>5</th>\n",
       "      <td>NaN</td>\n",
       "      <td>VAL</td>\n",
       "      <td>17397</td>\n",
       "    </tr>\n",
       "    <tr>\n",
       "      <th>6</th>\n",
       "      <td>2005-06</td>\n",
       "      <td>QTY</td>\n",
       "      <td>43119</td>\n",
       "    </tr>\n",
       "    <tr>\n",
       "      <th>7</th>\n",
       "      <td>NaN</td>\n",
       "      <td>VAL</td>\n",
       "      <td>12379</td>\n",
       "    </tr>\n",
       "    <tr>\n",
       "      <th>8</th>\n",
       "      <td>2006-07</td>\n",
       "      <td>QTY</td>\n",
       "      <td>124464</td>\n",
       "    </tr>\n",
       "    <tr>\n",
       "      <th>9</th>\n",
       "      <td>NaN</td>\n",
       "      <td>VAL</td>\n",
       "      <td>32678</td>\n",
       "    </tr>\n",
       "  </tbody>\n",
       "</table>\n",
       "</div>"
      ],
      "text/plain": [
       "      Year Parameter   Value\n",
       "0  2002-03       QTY   43203\n",
       "1      NaN       VAL    7909\n",
       "2  2003-04       QTY   27030\n",
       "3      NaN       VAL    5300\n",
       "4  2004-05       QTY   70396\n",
       "5      NaN       VAL   17397\n",
       "6  2005-06       QTY   43119\n",
       "7      NaN       VAL   12379\n",
       "8  2006-07       QTY  124464\n",
       "9      NaN       VAL   32678"
      ]
     },
     "execution_count": 4,
     "metadata": {},
     "output_type": "execute_result"
    }
   ],
   "source": [
    "data.head(10)"
   ]
  },
  {
   "cell_type": "code",
   "execution_count": 5,
   "metadata": {},
   "outputs": [
    {
     "data": {
      "text/plain": [
       "34"
      ]
     },
     "execution_count": 5,
     "metadata": {},
     "output_type": "execute_result"
    }
   ],
   "source": [
    "data.shape[0]"
   ]
  },
  {
   "cell_type": "code",
   "execution_count": 6,
   "metadata": {},
   "outputs": [],
   "source": [
    "qty = []\n",
    "val = []\n",
    "year = []\n",
    "for i in range (0,data.shape[0]):\n",
    "    if(i%2 == 0):\n",
    "        qty.append(data['Value'][i])\n",
    "        year.append(data['Year'][i])\n",
    "    else:\n",
    "        val.append(data['Value'][i])"
   ]
  },
  {
   "cell_type": "code",
   "execution_count": 7,
   "metadata": {},
   "outputs": [],
   "source": [
    "import_data = pd.DataFrame(year, columns = ['Year'])\n",
    "import_data['Quantity(in MT)'] = qty\n",
    "import_data['Value(in Lakhs)'] = val"
   ]
  },
  {
   "cell_type": "code",
   "execution_count": 8,
   "metadata": {},
   "outputs": [
    {
     "data": {
      "text/html": [
       "<div>\n",
       "<style scoped>\n",
       "    .dataframe tbody tr th:only-of-type {\n",
       "        vertical-align: middle;\n",
       "    }\n",
       "\n",
       "    .dataframe tbody tr th {\n",
       "        vertical-align: top;\n",
       "    }\n",
       "\n",
       "    .dataframe thead th {\n",
       "        text-align: right;\n",
       "    }\n",
       "</style>\n",
       "<table border=\"1\" class=\"dataframe\">\n",
       "  <thead>\n",
       "    <tr style=\"text-align: right;\">\n",
       "      <th></th>\n",
       "      <th>Year</th>\n",
       "      <th>Quantity(in MT)</th>\n",
       "      <th>Value(in Lakhs)</th>\n",
       "    </tr>\n",
       "  </thead>\n",
       "  <tbody>\n",
       "    <tr>\n",
       "      <th>0</th>\n",
       "      <td>2002-03</td>\n",
       "      <td>43203</td>\n",
       "      <td>7909</td>\n",
       "    </tr>\n",
       "    <tr>\n",
       "      <th>1</th>\n",
       "      <td>2003-04</td>\n",
       "      <td>27030</td>\n",
       "      <td>5300</td>\n",
       "    </tr>\n",
       "    <tr>\n",
       "      <th>2</th>\n",
       "      <td>2004-05</td>\n",
       "      <td>70396</td>\n",
       "      <td>17397</td>\n",
       "    </tr>\n",
       "    <tr>\n",
       "      <th>3</th>\n",
       "      <td>2005-06</td>\n",
       "      <td>43119</td>\n",
       "      <td>12379</td>\n",
       "    </tr>\n",
       "    <tr>\n",
       "      <th>4</th>\n",
       "      <td>2006-07</td>\n",
       "      <td>124464</td>\n",
       "      <td>32678</td>\n",
       "    </tr>\n",
       "    <tr>\n",
       "      <th>5</th>\n",
       "      <td>2007-08</td>\n",
       "      <td>136422</td>\n",
       "      <td>36149</td>\n",
       "    </tr>\n",
       "    <tr>\n",
       "      <th>6</th>\n",
       "      <td>2008-09</td>\n",
       "      <td>285037</td>\n",
       "      <td>69914</td>\n",
       "    </tr>\n",
       "    <tr>\n",
       "      <th>7</th>\n",
       "      <td>2009-10</td>\n",
       "      <td>389650</td>\n",
       "      <td>82134</td>\n",
       "    </tr>\n",
       "    <tr>\n",
       "      <th>8</th>\n",
       "      <td>2010-11</td>\n",
       "      <td>466097</td>\n",
       "      <td>96233</td>\n",
       "    </tr>\n",
       "    <tr>\n",
       "      <th>9</th>\n",
       "      <td>2011-12</td>\n",
       "      <td>570040</td>\n",
       "      <td>152012</td>\n",
       "    </tr>\n",
       "    <tr>\n",
       "      <th>10</th>\n",
       "      <td>2012-13</td>\n",
       "      <td>646738</td>\n",
       "      <td>171462</td>\n",
       "    </tr>\n",
       "    <tr>\n",
       "      <th>11</th>\n",
       "      <td>2013-14</td>\n",
       "      <td>664797</td>\n",
       "      <td>197806</td>\n",
       "    </tr>\n",
       "    <tr>\n",
       "      <th>12</th>\n",
       "      <td>2014-15</td>\n",
       "      <td>712384</td>\n",
       "      <td>234821</td>\n",
       "    </tr>\n",
       "    <tr>\n",
       "      <th>13</th>\n",
       "      <td>2015-16</td>\n",
       "      <td>792775</td>\n",
       "      <td>206305</td>\n",
       "    </tr>\n",
       "    <tr>\n",
       "      <th>14</th>\n",
       "      <td>2016-17</td>\n",
       "      <td>847808</td>\n",
       "      <td>193958</td>\n",
       "    </tr>\n",
       "    <tr>\n",
       "      <th>15</th>\n",
       "      <td>2017-18</td>\n",
       "      <td>884515</td>\n",
       "      <td>290624</td>\n",
       "    </tr>\n",
       "  </tbody>\n",
       "</table>\n",
       "</div>"
      ],
      "text/plain": [
       "       Year  Quantity(in MT)  Value(in Lakhs)\n",
       "0   2002-03            43203             7909\n",
       "1   2003-04            27030             5300\n",
       "2   2004-05            70396            17397\n",
       "3   2005-06            43119            12379\n",
       "4   2006-07           124464            32678\n",
       "5   2007-08           136422            36149\n",
       "6   2008-09           285037            69914\n",
       "7   2009-10           389650            82134\n",
       "8   2010-11           466097            96233\n",
       "9   2011-12           570040           152012\n",
       "10  2012-13           646738           171462\n",
       "11  2013-14           664797           197806\n",
       "12  2014-15           712384           234821\n",
       "13  2015-16           792775           206305\n",
       "14  2016-17           847808           193958\n",
       "15  2017-18           884515           290624"
      ]
     },
     "execution_count": 8,
     "metadata": {},
     "output_type": "execute_result"
    }
   ],
   "source": [
    "import_data.head(import_data.shape[0]-1)"
   ]
  },
  {
   "cell_type": "code",
   "execution_count": 9,
   "metadata": {},
   "outputs": [
    {
     "data": {
      "text/plain": [
       "<matplotlib.axes._subplots.AxesSubplot at 0x1cb75564430>"
      ]
     },
     "execution_count": 9,
     "metadata": {},
     "output_type": "execute_result"
    },
    {
     "data": {
      "image/png": "[encoded data removed]",
      "text/plain": [
       "<Figure size 1080x576 with 1 Axes>"
      ]
     },
     "metadata": {
      "needs_background": "light"
     },
     "output_type": "display_data"
    }
   ],
   "source": [
    "ax = import_data.plot(x ='Year', y = 'Quantity(in MT)', figsize=(15,8), marker = 'o', color = 'black')\n",
    "import_data.plot(x ='Year', y = 'Value(in Lakhs)', figsize=(15,8), marker = 'o', color = 'red', ax= ax)"
   ]
  },
  {
   "cell_type": "code",
   "execution_count": 10,
   "metadata": {},
   "outputs": [
    {
     "data": {
      "text/html": [
       "<div>\n",
       "<style scoped>\n",
       "    .dataframe tbody tr th:only-of-type {\n",
       "        vertical-align: middle;\n",
       "    }\n",
       "\n",
       "    .dataframe tbody tr th {\n",
       "        vertical-align: top;\n",
       "    }\n",
       "\n",
       "    .dataframe thead th {\n",
       "        text-align: right;\n",
       "    }\n",
       "</style>\n",
       "<table border=\"1\" class=\"dataframe\">\n",
       "  <thead>\n",
       "    <tr style=\"text-align: right;\">\n",
       "      <th></th>\n",
       "      <th>Year</th>\n",
       "      <th>Quantity(in MT)</th>\n",
       "      <th>Value(in Lakhs)</th>\n",
       "    </tr>\n",
       "    <tr>\n",
       "      <th>Year(numerical)</th>\n",
       "      <th></th>\n",
       "      <th></th>\n",
       "      <th></th>\n",
       "    </tr>\n",
       "  </thead>\n",
       "  <tbody>\n",
       "    <tr>\n",
       "      <th>2002-01-01</th>\n",
       "      <td>2002-03</td>\n",
       "      <td>43203</td>\n",
       "      <td>7909</td>\n",
       "    </tr>\n",
       "    <tr>\n",
       "      <th>2003-01-01</th>\n",
       "      <td>2003-04</td>\n",
       "      <td>27030</td>\n",
       "      <td>5300</td>\n",
       "    </tr>\n",
       "    <tr>\n",
       "      <th>2004-01-01</th>\n",
       "      <td>2004-05</td>\n",
       "      <td>70396</td>\n",
       "      <td>17397</td>\n",
       "    </tr>\n",
       "    <tr>\n",
       "      <th>2005-01-01</th>\n",
       "      <td>2005-06</td>\n",
       "      <td>43119</td>\n",
       "      <td>12379</td>\n",
       "    </tr>\n",
       "    <tr>\n",
       "      <th>2006-01-01</th>\n",
       "      <td>2006-07</td>\n",
       "      <td>124464</td>\n",
       "      <td>32678</td>\n",
       "    </tr>\n",
       "  </tbody>\n",
       "</table>\n",
       "</div>"
      ],
      "text/plain": [
       "                    Year  Quantity(in MT)  Value(in Lakhs)\n",
       "Year(numerical)                                           \n",
       "2002-01-01       2002-03            43203             7909\n",
       "2003-01-01       2003-04            27030             5300\n",
       "2004-01-01       2004-05            70396            17397\n",
       "2005-01-01       2005-06            43119            12379\n",
       "2006-01-01       2006-07           124464            32678"
      ]
     },
     "execution_count": 10,
     "metadata": {},
     "output_type": "execute_result"
    }
   ],
   "source": [
    "year_arr = []\n",
    "for x in import_data['Year']:\n",
    "    year_arr.append(x[0:4])\n",
    "import_data['Year(numerical)'] = year_arr\n",
    "import_data['Year(numerical)'] = pd.to_datetime(import_data['Year(numerical)'])\n",
    "import_data.drop(['Quantity(in MT)', 'Value(in Lakhs)'],axis = 1, inplace = True)\n",
    "import_data['Quantity(in MT)'] = qty\n",
    "import_data['Value(in Lakhs)'] = val\n",
    "import_data.set_index('Year(numerical)', inplace = True)\n",
    "import_data.head()"
   ]
  },
  {
   "cell_type": "code",
   "execution_count": 11,
   "metadata": {},
   "outputs": [
    {
     "data": {
      "text/html": [
       "<div>\n",
       "<style scoped>\n",
       "    .dataframe tbody tr th:only-of-type {\n",
       "        vertical-align: middle;\n",
       "    }\n",
       "\n",
       "    .dataframe tbody tr th {\n",
       "        vertical-align: top;\n",
       "    }\n",
       "\n",
       "    .dataframe thead th {\n",
       "        text-align: right;\n",
       "    }\n",
       "</style>\n",
       "<table border=\"1\" class=\"dataframe\">\n",
       "  <thead>\n",
       "    <tr style=\"text-align: right;\">\n",
       "      <th></th>\n",
       "      <th>Quantity(in MT)</th>\n",
       "    </tr>\n",
       "    <tr>\n",
       "      <th>Year(numerical)</th>\n",
       "      <th></th>\n",
       "    </tr>\n",
       "  </thead>\n",
       "  <tbody>\n",
       "    <tr>\n",
       "      <th>2002-01-01</th>\n",
       "      <td>43203</td>\n",
       "    </tr>\n",
       "    <tr>\n",
       "      <th>2003-01-01</th>\n",
       "      <td>27030</td>\n",
       "    </tr>\n",
       "    <tr>\n",
       "      <th>2004-01-01</th>\n",
       "      <td>70396</td>\n",
       "    </tr>\n",
       "    <tr>\n",
       "      <th>2005-01-01</th>\n",
       "      <td>43119</td>\n",
       "    </tr>\n",
       "    <tr>\n",
       "      <th>2006-01-01</th>\n",
       "      <td>124464</td>\n",
       "    </tr>\n",
       "  </tbody>\n",
       "</table>\n",
       "</div>"
      ],
      "text/plain": [
       "                 Quantity(in MT)\n",
       "Year(numerical)                 \n",
       "2002-01-01                 43203\n",
       "2003-01-01                 27030\n",
       "2004-01-01                 70396\n",
       "2005-01-01                 43119\n",
       "2006-01-01                124464"
      ]
     },
     "execution_count": 11,
     "metadata": {},
     "output_type": "execute_result"
    }
   ],
   "source": [
    "data_to_fit = import_data.drop(['Year','Value(in Lakhs)'], axis = 1)\n",
    "data_to_fit.head()"
   ]
  },
  {
   "cell_type": "code",
   "execution_count": 12,
   "metadata": {},
   "outputs": [
    {
     "data": {
      "text/plain": [
       "<matplotlib.axes._subplots.AxesSubplot at 0x1cb77d42d90>"
      ]
     },
     "execution_count": 12,
     "metadata": {},
     "output_type": "execute_result"
    },
    {
     "data": {
      "image/png": "[encoded data removed]",
      "text/plain": [
       "<Figure size 1080x576 with 1 Axes>"
      ]
     },
     "metadata": {
      "needs_background": "light"
     },
     "output_type": "display_data"
    }
   ],
   "source": [
    "data_to_fit.index = pd.DatetimeIndex(data_to_fit.index.values,freq=data_to_fit.index.inferred_freq)\n",
    "#Using Holt's Winter model for forecasting future expected import quantities\n",
    "from statsmodels.tsa.holtwinters import ExponentialSmoothing\n",
    "model = ExponentialSmoothing(data_to_fit, trend = 'add', damped = False)\n",
    "np.warnings.filterwarnings('ignore')\n",
    "model_fit = model.fit(optimized = True)\n",
    "fcast = model_fit.forecast(8)\n",
    "ax = data_to_fit.plot(marker='o', color='black', figsize=(15,8), legend=True)\n",
    "ax.ticklabel_format(style='plain', axis = 'y')\n",
    "model_fit.fittedvalues.plot(marker='+', ax=ax, color='red', legend=True, label = 'fitted_model')\n",
    "fcast.plot(marker = 'o', ax=ax, color = 'blue', legend = True, label = 'forecasted_value')"
   ]
  },
  {
   "cell_type": "code",
   "execution_count": 13,
   "metadata": {},
   "outputs": [
    {
     "name": "stdout",
     "output_type": "stream",
     "text": [
      "The import Quantities of 16 years\n",
      "2002-03 : 43203 MT\n",
      "2003-04 : 27030 MT\n",
      "2004-05 : 70396 MT\n",
      "2005-06 : 43119 MT\n",
      "2006-07 : 124464 MT\n",
      "2007-08 : 136422 MT\n",
      "2008-09 : 285037 MT\n",
      "2009-10 : 389650 MT\n",
      "2010-11 : 466097 MT\n",
      "2011-12 : 570040 MT\n",
      "2012-13 : 646738 MT\n",
      "2013-14 : 664797 MT\n",
      "2014-15 : 712384 MT\n",
      "2015-16 : 792775 MT\n",
      "2016-17 : 847808 MT\n",
      "2017-18 : 884515 MT\n",
      "2018-19 : 937298 MT\n"
     ]
    }
   ],
   "source": [
    "i = 0\n",
    "print('The import Quantities of 16 years')\n",
    "for x in import_data['Quantity(in MT)']:\n",
    "    print(import_data['Year'][i], ':', int(x), 'MT')\n",
    "    i+=1;"
   ]
  },
  {
   "cell_type": "code",
   "execution_count": 14,
   "metadata": {},
   "outputs": [
    {
     "name": "stdout",
     "output_type": "stream",
     "text": [
      "Expected import Quantities\n",
      "2019 - 20 : 985883 MT\n",
      "2020 - 21 : 1033776 MT\n",
      "2021 - 22 : 1081669 MT\n",
      "2022 - 23 : 1129561 MT\n",
      "2023 - 24 : 1177454 MT\n",
      "2024 - 25 : 1225347 MT\n",
      "2025 - 26 : 1273240 MT\n",
      "2026 - 27 : 1321132 MT\n"
     ]
    }
   ],
   "source": [
    "i = 1\n",
    "print('Expected import Quantities')\n",
    "for x in fcast:\n",
    "    print(2018+i,'-',19+i,':', int(x), 'MT')\n",
    "    i+=1;"
   ]
  },
  {
   "cell_type": "code",
   "execution_count": 15,
   "metadata": {},
   "outputs": [
    {
     "data": {
      "text/html": [
       "<div>\n",
       "<style scoped>\n",
       "    .dataframe tbody tr th:only-of-type {\n",
       "        vertical-align: middle;\n",
       "    }\n",
       "\n",
       "    .dataframe tbody tr th {\n",
       "        vertical-align: top;\n",
       "    }\n",
       "\n",
       "    .dataframe thead th {\n",
       "        text-align: right;\n",
       "    }\n",
       "</style>\n",
       "<table border=\"1\" class=\"dataframe\">\n",
       "  <thead>\n",
       "    <tr style=\"text-align: right;\">\n",
       "      <th></th>\n",
       "      <th>Value(in Lakhs)</th>\n",
       "    </tr>\n",
       "    <tr>\n",
       "      <th>Year(numerical)</th>\n",
       "      <th></th>\n",
       "    </tr>\n",
       "  </thead>\n",
       "  <tbody>\n",
       "    <tr>\n",
       "      <th>2002-01-01</th>\n",
       "      <td>7909</td>\n",
       "    </tr>\n",
       "    <tr>\n",
       "      <th>2003-01-01</th>\n",
       "      <td>5300</td>\n",
       "    </tr>\n",
       "    <tr>\n",
       "      <th>2004-01-01</th>\n",
       "      <td>17397</td>\n",
       "    </tr>\n",
       "    <tr>\n",
       "      <th>2005-01-01</th>\n",
       "      <td>12379</td>\n",
       "    </tr>\n",
       "    <tr>\n",
       "      <th>2006-01-01</th>\n",
       "      <td>32678</td>\n",
       "    </tr>\n",
       "  </tbody>\n",
       "</table>\n",
       "</div>"
      ],
      "text/plain": [
       "                 Value(in Lakhs)\n",
       "Year(numerical)                 \n",
       "2002-01-01                  7909\n",
       "2003-01-01                  5300\n",
       "2004-01-01                 17397\n",
       "2005-01-01                 12379\n",
       "2006-01-01                 32678"
      ]
     },
     "execution_count": 15,
     "metadata": {},
     "output_type": "execute_result"
    }
   ],
   "source": [
    "#forecasting using Holt's method for value\n",
    "data_to_fit2 = import_data.drop(['Year','Quantity(in MT)'], axis = 1)\n",
    "data_to_fit2.head()"
   ]
  },
  {
   "cell_type": "code",
   "execution_count": 16,
   "metadata": {},
   "outputs": [
    {
     "data": {
      "text/plain": [
       "<matplotlib.axes._subplots.AxesSubplot at 0x1cb77d83820>"
      ]
     },
     "execution_count": 16,
     "metadata": {},
     "output_type": "execute_result"
    },
    {
     "data": {
      "image/png": "[encoded data removed]",
      "text/plain": [
       "<Figure size 1080x576 with 1 Axes>"
      ]
     },
     "metadata": {
      "needs_background": "light"
     },
     "output_type": "display_data"
    }
   ],
   "source": [
    "data_to_fit2.index = pd.DatetimeIndex(data_to_fit2.index.values,freq=data_to_fit2.index.inferred_freq)\n",
    "from statsmodels.tsa.holtwinters import ExponentialSmoothing\n",
    "model2 = ExponentialSmoothing(data_to_fit2, trend = 'add', damped = False)\n",
    "np.warnings.filterwarnings('ignore')\n",
    "model_fit2 = model2.fit(optimized = True)\n",
    "fcast2 = model_fit2.forecast(8)\n",
    "ax2 = data_to_fit2.plot(marker='o', color='black', figsize=(15,8), legend=True)\n",
    "ax2.ticklabel_format(style='plain', axis = 'y')\n",
    "model_fit2.fittedvalues.plot(marker='+', ax=ax2, color='red', legend=True, label = 'fitted_model')\n",
    "fcast2.plot(marker = 'o', ax=ax2, color = 'blue', legend = True, label = 'forecasted_value')"
   ]
  },
  {
   "cell_type": "code",
   "execution_count": 17,
   "metadata": {},
   "outputs": [
    {
     "name": "stdout",
     "output_type": "stream",
     "text": [
      "The import value of 16 years\n",
      "2002-03 : 7909 Lakhs\n",
      "2003-04 : 5300 Lakhs\n",
      "2004-05 : 17397 Lakhs\n",
      "2005-06 : 12379 Lakhs\n",
      "2006-07 : 32678 Lakhs\n",
      "2007-08 : 36149 Lakhs\n",
      "2008-09 : 69914 Lakhs\n",
      "2009-10 : 82134 Lakhs\n",
      "2010-11 : 96233 Lakhs\n",
      "2011-12 : 152012 Lakhs\n",
      "2012-13 : 171462 Lakhs\n",
      "2013-14 : 197806 Lakhs\n",
      "2014-15 : 234821 Lakhs\n",
      "2015-16 : 206305 Lakhs\n",
      "2016-17 : 193958 Lakhs\n",
      "2017-18 : 290624 Lakhs\n",
      "2018-19 : 422360 Lakhs\n"
     ]
    }
   ],
   "source": [
    "i = 0\n",
    "print('The import value of 16 years')\n",
    "for x in import_data['Value(in Lakhs)']:\n",
    "    print(import_data['Year'][i], ':', int(x), 'Lakhs')\n",
    "    i+=1;"
   ]
  },
  {
   "cell_type": "code",
   "execution_count": 18,
   "metadata": {
    "scrolled": false
   },
   "outputs": [
    {
     "name": "stdout",
     "output_type": "stream",
     "text": [
      "Expected import Quantities\n",
      "2019 - 20 : 554096 Lakhs\n",
      "2020 - 21 : 685836 Lakhs\n",
      "2021 - 22 : 817576 Lakhs\n",
      "2022 - 23 : 949316 Lakhs\n",
      "2023 - 24 : 1081055 Lakhs\n",
      "2024 - 25 : 1212795 Lakhs\n",
      "2025 - 26 : 1344535 Lakhs\n",
      "2026 - 27 : 1476275 Lakhs\n"
     ]
    }
   ],
   "source": [
    "i = 1\n",
    "print('Expected import Quantities')\n",
    "for x in fcast2:\n",
    "    print(2018+i,'-',19+i,':', int(x), 'Lakhs')\n",
    "    i+=1;"
   ]
  },
  {
   "cell_type": "code",
   "execution_count": 19,
   "metadata": {},
   "outputs": [
    {
     "data": {
      "text/plain": [
       "<matplotlib.axes._subplots.AxesSubplot at 0x1cb77e78190>"
      ]
     },
     "execution_count": 19,
     "metadata": {},
     "output_type": "execute_result"
    },
    {
     "data": {
      "image/png": "[encoded data removed]",
      "text/plain": [
       "<Figure size 864x576 with 1 Axes>"
      ]
     },
     "metadata": {
      "needs_background": "light"
     },
     "output_type": "display_data"
    }
   ],
   "source": [
    "#forecasting value based on the value of quantity of past imports\n",
    "import_data.plot(x='Quantity(in MT)', y = 'Value(in Lakhs)', marker = 'o', color = 'Black', figsize=(12,8))"
   ]
  },
  {
   "cell_type": "code",
   "execution_count": 20,
   "metadata": {},
   "outputs": [],
   "source": [
    "#using Linear Regression Model\n",
    "from sklearn.model_selection import train_test_split\n",
    "from sklearn.linear_model import LinearRegression\n",
    "X = np.array(import_data['Quantity(in MT)']).reshape(-1,1)\n",
    "y = np.array(import_data['Value(in Lakhs)']).reshape(-1,1)"
   ]
  },
  {
   "cell_type": "code",
   "execution_count": 21,
   "metadata": {},
   "outputs": [
    {
     "name": "stdout",
     "output_type": "stream",
     "text": [
      "0.9013342925377468\n"
     ]
    }
   ],
   "source": [
    "X_temp = np.multiply(X,X)\n",
    "X_train, X_test, y_train, y_test = train_test_split(X_temp, y, test_size = 0.25)\n",
    "regr = LinearRegression()\n",
    "  \n",
    "regr.fit(X_train, y_train)\n",
    "print(regr.score(X_test, y_test))"
   ]
  },
  {
   "cell_type": "code",
   "execution_count": 22,
   "metadata": {},
   "outputs": [
    {
     "data": {
      "image/png": "[encoded data removed]",
      "text/plain": [
       "<Figure size 432x288 with 1 Axes>"
      ]
     },
     "metadata": {
      "needs_background": "light"
     },
     "output_type": "display_data"
    }
   ],
   "source": [
    "y_pred = regr.predict(X_test)\n",
    "plt.scatter(X_test, y_test, color ='b')\n",
    "plt.plot(X_test, y_pred, color ='k')\n",
    "plt.show()"
   ]
  },
  {
   "cell_type": "code",
   "execution_count": 23,
   "metadata": {},
   "outputs": [
    {
     "name": "stdout",
     "output_type": "stream",
     "text": [
      "[[3.67644856e-07]] [23603.55531265]\n"
     ]
    }
   ],
   "source": [
    "print(regr.coef_, regr.intercept_)"
   ]
  },
  {
   "cell_type": "code",
   "execution_count": 24,
   "metadata": {},
   "outputs": [
    {
     "data": {
      "text/plain": [
       "[<matplotlib.lines.Line2D at 0x1cb78968a60>]"
      ]
     },
     "execution_count": 24,
     "metadata": {},
     "output_type": "execute_result"
    },
    {
     "data": {
      "image/png": "[encoded data removed]",
      "text/plain": [
       "<Figure size 720x720 with 1 Axes>"
      ]
     },
     "metadata": {
      "needs_background": "light"
     },
     "output_type": "display_data"
    }
   ],
   "source": [
    "plt.figure(figsize=(10,10))\n",
    "plt.scatter(x = import_data['Quantity(in MT)'], y = import_data['Value(in Lakhs)'], color = 'black', marker = 'o')\n",
    "y_fitted = np.add(np.multiply(X_temp,regr.coef_),regr.intercept_)\n",
    "plt.plot(X, y_fitted, color = 'red')\n",
    "#for forecasted values of quantity the expected Value can now be given\n",
    "val_predicted =[]\n",
    "qty_predicted =[]\n",
    "for x in fcast:\n",
    "    val = ((x*x)*regr.coef_[0][0])+regr.intercept_[0]\n",
    "    val_predicted.append(val)\n",
    "    qty_predicted.append(int(x))\n",
    "plt.plot(qty_predicted, val_predicted, color='blue', marker = 'o')"
   ]
  },
  {
   "cell_type": "code",
   "execution_count": 25,
   "metadata": {},
   "outputs": [
    {
     "data": {
      "text/plain": [
       "[<matplotlib.lines.Line2D at 0x1cb789c1430>]"
      ]
     },
     "execution_count": 25,
     "metadata": {},
     "output_type": "execute_result"
    },
    {
     "data": {
      "image/png": "[encoded data removed]",
      "text/plain": [
       "<Figure size 432x288 with 1 Axes>"
      ]
     },
     "metadata": {
      "needs_background": "light"
     },
     "output_type": "display_data"
    }
   ],
   "source": [
    "#for forecasted values of quantity the expected Value can now be given\n",
    "val_predicted =[]\n",
    "qty_predicted =[]\n",
    "for x in fcast:\n",
    "    val = ((x*x)*regr.coef_[0][0])+regr.intercept_[0]\n",
    "    val_predicted.append(int(val))\n",
    "    qty_predicted.append(int(x))\n",
    "plt.plot(qty_predicted, val_predicted, color='blue', marker = 'o')"
   ]
  },
  {
   "cell_type": "code",
   "execution_count": 26,
   "metadata": {},
   "outputs": [
    {
     "data": {
      "text/html": [
       "<div>\n",
       "<style scoped>\n",
       "    .dataframe tbody tr th:only-of-type {\n",
       "        vertical-align: middle;\n",
       "    }\n",
       "\n",
       "    .dataframe tbody tr th {\n",
       "        vertical-align: top;\n",
       "    }\n",
       "\n",
       "    .dataframe thead th {\n",
       "        text-align: right;\n",
       "    }\n",
       "</style>\n",
       "<table border=\"1\" class=\"dataframe\">\n",
       "  <thead>\n",
       "    <tr style=\"text-align: right;\">\n",
       "      <th></th>\n",
       "      <th>Forecasted Values of Import</th>\n",
       "    </tr>\n",
       "  </thead>\n",
       "  <tbody>\n",
       "    <tr>\n",
       "      <th>2019-01-01</th>\n",
       "      <td>380942</td>\n",
       "    </tr>\n",
       "    <tr>\n",
       "      <th>2020-01-01</th>\n",
       "      <td>416503</td>\n",
       "    </tr>\n",
       "    <tr>\n",
       "      <th>2021-01-01</th>\n",
       "      <td>453751</td>\n",
       "    </tr>\n",
       "    <tr>\n",
       "      <th>2022-01-01</th>\n",
       "      <td>492685</td>\n",
       "    </tr>\n",
       "    <tr>\n",
       "      <th>2023-01-01</th>\n",
       "      <td>533306</td>\n",
       "    </tr>\n",
       "    <tr>\n",
       "      <th>2024-01-01</th>\n",
       "      <td>575613</td>\n",
       "    </tr>\n",
       "    <tr>\n",
       "      <th>2025-01-01</th>\n",
       "      <td>619607</td>\n",
       "    </tr>\n",
       "    <tr>\n",
       "      <th>2026-01-01</th>\n",
       "      <td>665288</td>\n",
       "    </tr>\n",
       "  </tbody>\n",
       "</table>\n",
       "</div>"
      ],
      "text/plain": [
       "            Forecasted Values of Import\n",
       "2019-01-01                       380942\n",
       "2020-01-01                       416503\n",
       "2021-01-01                       453751\n",
       "2022-01-01                       492685\n",
       "2023-01-01                       533306\n",
       "2024-01-01                       575613\n",
       "2025-01-01                       619607\n",
       "2026-01-01                       665288"
      ]
     },
     "execution_count": 26,
     "metadata": {},
     "output_type": "execute_result"
    }
   ],
   "source": [
    "val_forecast = pd.DataFrame(val_predicted, columns = ['Forecasted Values of Import'])\n",
    "val_forecast.set_index(fcast.index, inplace = True)\n",
    "val_forecast"
   ]
  },
  {
   "cell_type": "code",
   "execution_count": 27,
   "metadata": {},
   "outputs": [
    {
     "data": {
      "image/png": "[encoded data removed]",
      "text/plain": [
       "<Figure size 1080x720 with 1 Axes>"
      ]
     },
     "metadata": {
      "needs_background": "light"
     },
     "output_type": "display_data"
    }
   ],
   "source": [
    "ax3 = import_data.plot(figsize=(15,10), marker = 'o')\n",
    "ax3.ticklabel_format(style = 'plain', axis = 'y')\n",
    "fcast.plot(ax = ax3, marker = 's', color = 'red', legend = True, label = 'Quantity forecast')\n",
    "val_forecast.plot(ax=ax3, marker = '^', color = 'magenta', legend = True)\n",
    "#storing data\n",
    "forecasted_data = pd.DataFrame()\n",
    "forecasted_data['Quantity(in MT)'] = fcast\n",
    "forecasted_data['Value(in Lakhs)'] = val_predicted\n",
    "forecasted_data.set_index(fcast.index, inplace = True)\n",
    "forecasted_data.index.name = 'Year(numerical)'\n",
    "forecasted_data = forecasted_data.astype(int)"
   ]
  },
  {
   "cell_type": "code",
   "execution_count": 28,
   "metadata": {},
   "outputs": [
    {
     "name": "stdout",
     "output_type": "stream",
     "text": [
      "\u001b[1m               IMPORT DATA                \u001b[0m\n"
     ]
    },
    {
     "data": {
      "text/html": [
       "<div>\n",
       "<style scoped>\n",
       "    .dataframe tbody tr th:only-of-type {\n",
       "        vertical-align: middle;\n",
       "    }\n",
       "\n",
       "    .dataframe tbody tr th {\n",
       "        vertical-align: top;\n",
       "    }\n",
       "\n",
       "    .dataframe thead th {\n",
       "        text-align: right;\n",
       "    }\n",
       "</style>\n",
       "<table border=\"1\" class=\"dataframe\">\n",
       "  <thead>\n",
       "    <tr style=\"text-align: right;\">\n",
       "      <th></th>\n",
       "      <th>Quantity(in MT)</th>\n",
       "      <th>Value(in Lakhs)</th>\n",
       "    </tr>\n",
       "    <tr>\n",
       "      <th>Year(numerical)</th>\n",
       "      <th></th>\n",
       "      <th></th>\n",
       "    </tr>\n",
       "  </thead>\n",
       "  <tbody>\n",
       "    <tr>\n",
       "      <th>2002-01-01</th>\n",
       "      <td>43203</td>\n",
       "      <td>7909</td>\n",
       "    </tr>\n",
       "    <tr>\n",
       "      <th>2003-01-01</th>\n",
       "      <td>27030</td>\n",
       "      <td>5300</td>\n",
       "    </tr>\n",
       "    <tr>\n",
       "      <th>2004-01-01</th>\n",
       "      <td>70396</td>\n",
       "      <td>17397</td>\n",
       "    </tr>\n",
       "    <tr>\n",
       "      <th>2005-01-01</th>\n",
       "      <td>43119</td>\n",
       "      <td>12379</td>\n",
       "    </tr>\n",
       "    <tr>\n",
       "      <th>2006-01-01</th>\n",
       "      <td>124464</td>\n",
       "      <td>32678</td>\n",
       "    </tr>\n",
       "    <tr>\n",
       "      <th>2007-01-01</th>\n",
       "      <td>136422</td>\n",
       "      <td>36149</td>\n",
       "    </tr>\n",
       "    <tr>\n",
       "      <th>2008-01-01</th>\n",
       "      <td>285037</td>\n",
       "      <td>69914</td>\n",
       "    </tr>\n",
       "    <tr>\n",
       "      <th>2009-01-01</th>\n",
       "      <td>389650</td>\n",
       "      <td>82134</td>\n",
       "    </tr>\n",
       "    <tr>\n",
       "      <th>2010-01-01</th>\n",
       "      <td>466097</td>\n",
       "      <td>96233</td>\n",
       "    </tr>\n",
       "    <tr>\n",
       "      <th>2011-01-01</th>\n",
       "      <td>570040</td>\n",
       "      <td>152012</td>\n",
       "    </tr>\n",
       "    <tr>\n",
       "      <th>2012-01-01</th>\n",
       "      <td>646738</td>\n",
       "      <td>171462</td>\n",
       "    </tr>\n",
       "    <tr>\n",
       "      <th>2013-01-01</th>\n",
       "      <td>664797</td>\n",
       "      <td>197806</td>\n",
       "    </tr>\n",
       "    <tr>\n",
       "      <th>2014-01-01</th>\n",
       "      <td>712384</td>\n",
       "      <td>234821</td>\n",
       "    </tr>\n",
       "    <tr>\n",
       "      <th>2015-01-01</th>\n",
       "      <td>792775</td>\n",
       "      <td>206305</td>\n",
       "    </tr>\n",
       "    <tr>\n",
       "      <th>2016-01-01</th>\n",
       "      <td>847808</td>\n",
       "      <td>193958</td>\n",
       "    </tr>\n",
       "    <tr>\n",
       "      <th>2017-01-01</th>\n",
       "      <td>884515</td>\n",
       "      <td>290624</td>\n",
       "    </tr>\n",
       "    <tr>\n",
       "      <th>2018-01-01</th>\n",
       "      <td>937298</td>\n",
       "      <td>422360</td>\n",
       "    </tr>\n",
       "  </tbody>\n",
       "</table>\n",
       "</div>"
      ],
      "text/plain": [
       "                 Quantity(in MT)  Value(in Lakhs)\n",
       "Year(numerical)                                  \n",
       "2002-01-01                 43203             7909\n",
       "2003-01-01                 27030             5300\n",
       "2004-01-01                 70396            17397\n",
       "2005-01-01                 43119            12379\n",
       "2006-01-01                124464            32678\n",
       "2007-01-01                136422            36149\n",
       "2008-01-01                285037            69914\n",
       "2009-01-01                389650            82134\n",
       "2010-01-01                466097            96233\n",
       "2011-01-01                570040           152012\n",
       "2012-01-01                646738           171462\n",
       "2013-01-01                664797           197806\n",
       "2014-01-01                712384           234821\n",
       "2015-01-01                792775           206305\n",
       "2016-01-01                847808           193958\n",
       "2017-01-01                884515           290624\n",
       "2018-01-01                937298           422360"
      ]
     },
     "execution_count": 28,
     "metadata": {},
     "output_type": "execute_result"
    }
   ],
   "source": [
    "a = \"IMPORT DATA\"\n",
    "print(\"\\033[1m\",a.center(40), \"\\033[0m\")\n",
    "import_data.drop('Year', axis = 1).head(17)"
   ]
  },
  {
   "cell_type": "code",
   "execution_count": 29,
   "metadata": {
    "scrolled": true
   },
   "outputs": [
    {
     "name": "stdout",
     "output_type": "stream",
     "text": [
      "\u001b[1m          FORECASTED IMPORT DATA          \u001b[0m\n"
     ]
    },
    {
     "data": {
      "text/html": [
       "<div>\n",
       "<style scoped>\n",
       "    .dataframe tbody tr th:only-of-type {\n",
       "        vertical-align: middle;\n",
       "    }\n",
       "\n",
       "    .dataframe tbody tr th {\n",
       "        vertical-align: top;\n",
       "    }\n",
       "\n",
       "    .dataframe thead th {\n",
       "        text-align: right;\n",
       "    }\n",
       "</style>\n",
       "<table border=\"1\" class=\"dataframe\">\n",
       "  <thead>\n",
       "    <tr style=\"text-align: right;\">\n",
       "      <th></th>\n",
       "      <th>Quantity(in MT)</th>\n",
       "      <th>Value(in Lakhs)</th>\n",
       "    </tr>\n",
       "    <tr>\n",
       "      <th>Year(numerical)</th>\n",
       "      <th></th>\n",
       "      <th></th>\n",
       "    </tr>\n",
       "  </thead>\n",
       "  <tbody>\n",
       "    <tr>\n",
       "      <th>2019-01-01</th>\n",
       "      <td>985883</td>\n",
       "      <td>380942</td>\n",
       "    </tr>\n",
       "    <tr>\n",
       "      <th>2020-01-01</th>\n",
       "      <td>1033776</td>\n",
       "      <td>416503</td>\n",
       "    </tr>\n",
       "    <tr>\n",
       "      <th>2021-01-01</th>\n",
       "      <td>1081669</td>\n",
       "      <td>453751</td>\n",
       "    </tr>\n",
       "    <tr>\n",
       "      <th>2022-01-01</th>\n",
       "      <td>1129561</td>\n",
       "      <td>492685</td>\n",
       "    </tr>\n",
       "    <tr>\n",
       "      <th>2023-01-01</th>\n",
       "      <td>1177454</td>\n",
       "      <td>533306</td>\n",
       "    </tr>\n",
       "    <tr>\n",
       "      <th>2024-01-01</th>\n",
       "      <td>1225347</td>\n",
       "      <td>575613</td>\n",
       "    </tr>\n",
       "    <tr>\n",
       "      <th>2025-01-01</th>\n",
       "      <td>1273240</td>\n",
       "      <td>619607</td>\n",
       "    </tr>\n",
       "    <tr>\n",
       "      <th>2026-01-01</th>\n",
       "      <td>1321132</td>\n",
       "      <td>665288</td>\n",
       "    </tr>\n",
       "  </tbody>\n",
       "</table>\n",
       "</div>"
      ],
      "text/plain": [
       "                 Quantity(in MT)  Value(in Lakhs)\n",
       "Year(numerical)                                  \n",
       "2019-01-01                985883           380942\n",
       "2020-01-01               1033776           416503\n",
       "2021-01-01               1081669           453751\n",
       "2022-01-01               1129561           492685\n",
       "2023-01-01               1177454           533306\n",
       "2024-01-01               1225347           575613\n",
       "2025-01-01               1273240           619607\n",
       "2026-01-01               1321132           665288"
      ]
     },
     "execution_count": 29,
     "metadata": {},
     "output_type": "execute_result"
    }
   ],
   "source": [
    "a = \"FORECASTED IMPORT DATA\"\n",
    "print(\"\\033[1m\",a.center(40), \"\\033[0m\")\n",
    "forecasted_data.head(8)"
   ]
  }
 ],
 "metadata": {
  "kernelspec": {
   "display_name": "Python 3",
   "language": "python",
   "name": "python3"
  },
  "language_info": {
   "codemirror_mode": {
    "name": "ipython",
    "version": 3
   },
   "file_extension": ".py",
   "mimetype": "text/x-python",
   "name": "python",
   "nbconvert_exporter": "python",
   "pygments_lexer": "ipython3",
   "version": "3.8.3"
  }
 },
 "nbformat": 4,
 "nbformat_minor": 4
}
